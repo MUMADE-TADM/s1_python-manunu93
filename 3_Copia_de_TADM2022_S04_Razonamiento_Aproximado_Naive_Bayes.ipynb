{
  "nbformat": 4,
  "nbformat_minor": 0,
  "metadata": {
    "colab": {
      "provenance": [],
      "collapsed_sections": [
        "EXhO5BtLsca_",
        "k_WlUs3_s2-n",
        "4IF984batkv3",
        "uOgQpWQXuMQw",
        "AFWm1t_MvQ9R"
      ],
      "include_colab_link": true
    },
    "kernelspec": {
      "name": "python3",
      "display_name": "Python 3"
    }
  },
  "cells": [
    {
      "cell_type": "markdown",
      "metadata": {
        "id": "view-in-github",
        "colab_type": "text"
      },
      "source": [
        "<a href=\"https://colab.research.google.com/github/MUMADE-TADM/s1_python-manunu93/blob/main/3_Copia_de_TADM2022_S04_Razonamiento_Aproximado_Naive_Bayes.ipynb\" target=\"_parent\"><img src=\"https://colab.research.google.com/assets/colab-badge.svg\" alt=\"Open In Colab\"/></a>"
      ]
    },
    {
      "cell_type": "markdown",
      "metadata": {
        "id": "t1s4a8JyqcyP"
      },
      "source": [
        "Vamos a operar de diferentes maneras con los préstamos de nuestro banco, en concreto vamos a intentar crear clasificadores para que dadas unas variables nos den la probabilidad o el rating de darle un préstamo a un cliente"
      ]
    },
    {
      "cell_type": "markdown",
      "source": [
        "Apuntes:\n",
        "\n",
        "Una técnica en caso de incertidumbre para clasificar varibles es el razonamiento aproximado, es una forma de asignar valores por grados, de esta forma una variable puede no necesariamente es A o B, puede ser x parte de A y x parte de B, con esto se puede aproximar. Para hacerlo de manera más precisa hay que utilizar estimadores robustos para que los resultados devueltos sean confiables, además los métodos robustos minimizan el ruido -> un estimador robusto es NaiveBayes\n",
        "\n",
        "Para realizar un modelo predictivo es necesario tener un conjunto de train y de test para hacer probarlo, el conjunto de train será para entrenar el modelo y el conjunto de test para evaluarlo."
      ],
      "metadata": {
        "id": "AOLHem4wxSvT"
      }
    },
    {
      "cell_type": "markdown",
      "metadata": {
        "id": "vpDTzqbaiodK"
      },
      "source": [
        "## Carga de Datos"
      ]
    },
    {
      "cell_type": "code",
      "metadata": {
        "colab": {
          "base_uri": "https://localhost:8080/"
        },
        "id": "lrljckjEtOOm",
        "outputId": "3ff8c06e-9590-4179-e139-462087c1b59d"
      },
      "source": [
        "!gdown --id 1Osmr7qVN0NMuqYxvLesNn7H4nqPCVbsU"
      ],
      "execution_count": null,
      "outputs": [
        {
          "output_type": "stream",
          "name": "stdout",
          "text": [
            "/usr/local/lib/python3.7/dist-packages/gdown/cli.py:131: FutureWarning: Option `--id` was deprecated in version 4.3.1 and will be removed in 5.0. You don't need to pass it anymore to use a file ID.\n",
            "  category=FutureWarning,\n",
            "Downloading...\n",
            "From: https://drive.google.com/uc?id=1Osmr7qVN0NMuqYxvLesNn7H4nqPCVbsU\n",
            "To: /content/data_berka.db\n",
            "100% 70.2M/70.2M [00:00<00:00, 259MB/s]\n"
          ]
        }
      ]
    },
    {
      "cell_type": "markdown",
      "metadata": {
        "id": "UDaOStdPirkZ"
      },
      "source": [
        "1. Cargamos la extensión sql"
      ]
    },
    {
      "cell_type": "code",
      "metadata": {
        "id": "3Zpf7lz5h7wp"
      },
      "source": [
        "%load_ext sql"
      ],
      "execution_count": null,
      "outputs": []
    },
    {
      "cell_type": "markdown",
      "metadata": {
        "id": "zPGw5HdqiuHI"
      },
      "source": [
        "2. Nos conectamos con la base de datos"
      ]
    },
    {
      "cell_type": "code",
      "metadata": {
        "id": "ADklBjhhiPLE",
        "colab": {
          "base_uri": "https://localhost:8080/",
          "height": 35
        },
        "outputId": "95fb7064-b7d3-49fe-cc64-91b554864607"
      },
      "source": [
        "%sql sqlite:///data_berka.db"
      ],
      "execution_count": null,
      "outputs": [
        {
          "output_type": "execute_result",
          "data": {
            "text/plain": [
              "'Connected: @data_berka.db'"
            ],
            "application/vnd.google.colaboratory.intrinsic+json": {
              "type": "string"
            }
          },
          "metadata": {},
          "execution_count": 3
        }
      ]
    },
    {
      "cell_type": "markdown",
      "metadata": {
        "id": "oQlROt7Uidms"
      },
      "source": [
        "> Datos de préstamos ya finalizados con su estado final, incluyendo datos del distrito, etc."
      ]
    },
    {
      "cell_type": "markdown",
      "source": [
        "¿Cuántos préstamos hay por cada estado?"
      ],
      "metadata": {
        "id": "iq0ZnTlWlN1s"
      }
    },
    {
      "cell_type": "code",
      "source": [
        "%%sql\n",
        "\n",
        "SELECT status, count(*) as total\n",
        "FROM  loan\n",
        "GROUP BY status\n",
        "ORDER BY total DESC\n",
        "\n"
      ],
      "metadata": {
        "id": "75QG92jrlNcH",
        "colab": {
          "base_uri": "https://localhost:8080/",
          "height": 161
        },
        "outputId": "e98733f6-c29a-4c2b-ec5a-0d0a2e75dc8d"
      },
      "execution_count": null,
      "outputs": [
        {
          "output_type": "stream",
          "name": "stdout",
          "text": [
            " * sqlite:///data_berka.db\n",
            "Done.\n"
          ]
        },
        {
          "output_type": "execute_result",
          "data": {
            "text/plain": [
              "[('C', 403), ('A', 203), ('D', 45), ('B', 31)]"
            ],
            "text/html": [
              "<table>\n",
              "    <thead>\n",
              "        <tr>\n",
              "            <th>status</th>\n",
              "            <th>total</th>\n",
              "        </tr>\n",
              "    </thead>\n",
              "    <tbody>\n",
              "        <tr>\n",
              "            <td>C</td>\n",
              "            <td>403</td>\n",
              "        </tr>\n",
              "        <tr>\n",
              "            <td>A</td>\n",
              "            <td>203</td>\n",
              "        </tr>\n",
              "        <tr>\n",
              "            <td>D</td>\n",
              "            <td>45</td>\n",
              "        </tr>\n",
              "        <tr>\n",
              "            <td>B</td>\n",
              "            <td>31</td>\n",
              "        </tr>\n",
              "    </tbody>\n",
              "</table>"
            ]
          },
          "metadata": {},
          "execution_count": 4
        }
      ]
    },
    {
      "cell_type": "markdown",
      "source": [
        "Vamos a empezar obteniendo los datos de los préstamos ya finalizados. Van a ser nuestros datos de entrenamiento. Por lo que seleccionaremos únicamente aquellos préstamos en status 'A' o 'B'. \n",
        "\n",
        "Con una sentencia CASE vamos a poner los prestamos finalizados bien a 1 y los que no finalizaron bien a 0. \n",
        "\n",
        "Sintaxis de uso de [INNER JOIN](https://www.sqlitetutorial.net/sqlite-inner-join/) para establecer joins entre tablas"
      ],
      "metadata": {
        "id": "roYYO_h9kH0d"
      }
    },
    {
      "cell_type": "markdown",
      "source": [
        "- CASE: ES CUANDO ; WHEN ES: ; THEN: AHORA\n",
        "\n",
        "- SUBSTR ES PARA OBTENER LOS CARACTERES\n",
        "- Y EL COMANDO ES PARA VOLCAR EN PYTHON ESA VARIABLE\n",
        "\n",
        "- DONDE PROCEDE LAS TALBAS, INDICAS CON EL INNER JOIN Y LA RELACIÓN CON EL ON "
      ],
      "metadata": {
        "id": "HwUOqNDoEyp3"
      }
    },
    {
      "cell_type": "markdown",
      "source": [
        "Para la variable train, con estos datos validaremos el modelo"
      ],
      "metadata": {
        "id": "3PqJ7n3DHPvW"
      }
    },
    {
      "cell_type": "code",
      "metadata": {
        "id": "dbTj5fJxiasa",
        "colab": {
          "base_uri": "https://localhost:8080/"
        },
        "outputId": "97955183-1988-4d6b-bda4-28442cab1b10"
      },
      "source": [
        "# el case sirve para actualizar el valor de las celdas de la columna\n",
        "# si en la misma línea de %%sql [nombre del objeto] <<  y el select añade esa tabla a un objeto que luego por medio de pandas puedes guardarlo y trabajarlo en lenguaje python\n",
        "\n",
        "%%sql loans_train << SELECT substr(l.date,0,3) year, amount, duration, payments, A11, A13, \n",
        "  CASE status WHEN 'A' THEN 1 \n",
        "              WHEN 'B' THEN 0\n",
        "  END label\n",
        "  FROM LOAN l, ACCOUNT a INNER JOIN DISTRICT d on a.district_id = d.A1 \n",
        "  WHERE l.account_id = a.account_id and l.status in (\"A\", \"B\")"
      ],
      "execution_count": null,
      "outputs": [
        {
          "output_type": "stream",
          "name": "stdout",
          "text": [
            " * sqlite:///data_berka.db\n",
            "Done.\n",
            "Returning data to local variable loans_train\n"
          ]
        }
      ]
    },
    {
      "cell_type": "markdown",
      "metadata": {
        "id": "Jj_-Qp_yiyeB"
      },
      "source": [
        "3. Obtenemos el DataFrame"
      ]
    },
    {
      "cell_type": "code",
      "metadata": {
        "id": "EgN-fsjUimKL",
        "colab": {
          "base_uri": "https://localhost:8080/",
          "height": 206
        },
        "outputId": "a61aed3f-a0fa-4f65-a43e-34703387226a"
      },
      "source": [
        "df_train = loans_train.DataFrame()\n",
        "df_train.head()"
      ],
      "execution_count": null,
      "outputs": [
        {
          "output_type": "execute_result",
          "data": {
            "text/plain": [
              "  year  amount  duration  payments    A11   A13  label\n",
              "0   93   96396        12      8033   9650  3.67      0\n",
              "1   93  165960        36      4610   8369  2.31      1\n",
              "2   93  127080        60      2118   8390  2.89      1\n",
              "3   93  105804        36      2939   8754  4.31      1\n",
              "4   93  274740        60      4579  12541  0.43      1"
            ],
            "text/html": [
              "\n",
              "  <div id=\"df-10e682d0-1c5b-4105-9030-92d91a7bbffb\">\n",
              "    <div class=\"colab-df-container\">\n",
              "      <div>\n",
              "<style scoped>\n",
              "    .dataframe tbody tr th:only-of-type {\n",
              "        vertical-align: middle;\n",
              "    }\n",
              "\n",
              "    .dataframe tbody tr th {\n",
              "        vertical-align: top;\n",
              "    }\n",
              "\n",
              "    .dataframe thead th {\n",
              "        text-align: right;\n",
              "    }\n",
              "</style>\n",
              "<table border=\"1\" class=\"dataframe\">\n",
              "  <thead>\n",
              "    <tr style=\"text-align: right;\">\n",
              "      <th></th>\n",
              "      <th>year</th>\n",
              "      <th>amount</th>\n",
              "      <th>duration</th>\n",
              "      <th>payments</th>\n",
              "      <th>A11</th>\n",
              "      <th>A13</th>\n",
              "      <th>label</th>\n",
              "    </tr>\n",
              "  </thead>\n",
              "  <tbody>\n",
              "    <tr>\n",
              "      <th>0</th>\n",
              "      <td>93</td>\n",
              "      <td>96396</td>\n",
              "      <td>12</td>\n",
              "      <td>8033</td>\n",
              "      <td>9650</td>\n",
              "      <td>3.67</td>\n",
              "      <td>0</td>\n",
              "    </tr>\n",
              "    <tr>\n",
              "      <th>1</th>\n",
              "      <td>93</td>\n",
              "      <td>165960</td>\n",
              "      <td>36</td>\n",
              "      <td>4610</td>\n",
              "      <td>8369</td>\n",
              "      <td>2.31</td>\n",
              "      <td>1</td>\n",
              "    </tr>\n",
              "    <tr>\n",
              "      <th>2</th>\n",
              "      <td>93</td>\n",
              "      <td>127080</td>\n",
              "      <td>60</td>\n",
              "      <td>2118</td>\n",
              "      <td>8390</td>\n",
              "      <td>2.89</td>\n",
              "      <td>1</td>\n",
              "    </tr>\n",
              "    <tr>\n",
              "      <th>3</th>\n",
              "      <td>93</td>\n",
              "      <td>105804</td>\n",
              "      <td>36</td>\n",
              "      <td>2939</td>\n",
              "      <td>8754</td>\n",
              "      <td>4.31</td>\n",
              "      <td>1</td>\n",
              "    </tr>\n",
              "    <tr>\n",
              "      <th>4</th>\n",
              "      <td>93</td>\n",
              "      <td>274740</td>\n",
              "      <td>60</td>\n",
              "      <td>4579</td>\n",
              "      <td>12541</td>\n",
              "      <td>0.43</td>\n",
              "      <td>1</td>\n",
              "    </tr>\n",
              "  </tbody>\n",
              "</table>\n",
              "</div>\n",
              "      <button class=\"colab-df-convert\" onclick=\"convertToInteractive('df-10e682d0-1c5b-4105-9030-92d91a7bbffb')\"\n",
              "              title=\"Convert this dataframe to an interactive table.\"\n",
              "              style=\"display:none;\">\n",
              "        \n",
              "  <svg xmlns=\"http://www.w3.org/2000/svg\" height=\"24px\"viewBox=\"0 0 24 24\"\n",
              "       width=\"24px\">\n",
              "    <path d=\"M0 0h24v24H0V0z\" fill=\"none\"/>\n",
              "    <path d=\"M18.56 5.44l.94 2.06.94-2.06 2.06-.94-2.06-.94-.94-2.06-.94 2.06-2.06.94zm-11 1L8.5 8.5l.94-2.06 2.06-.94-2.06-.94L8.5 2.5l-.94 2.06-2.06.94zm10 10l.94 2.06.94-2.06 2.06-.94-2.06-.94-.94-2.06-.94 2.06-2.06.94z\"/><path d=\"M17.41 7.96l-1.37-1.37c-.4-.4-.92-.59-1.43-.59-.52 0-1.04.2-1.43.59L10.3 9.45l-7.72 7.72c-.78.78-.78 2.05 0 2.83L4 21.41c.39.39.9.59 1.41.59.51 0 1.02-.2 1.41-.59l7.78-7.78 2.81-2.81c.8-.78.8-2.07 0-2.86zM5.41 20L4 18.59l7.72-7.72 1.47 1.35L5.41 20z\"/>\n",
              "  </svg>\n",
              "      </button>\n",
              "      \n",
              "  <style>\n",
              "    .colab-df-container {\n",
              "      display:flex;\n",
              "      flex-wrap:wrap;\n",
              "      gap: 12px;\n",
              "    }\n",
              "\n",
              "    .colab-df-convert {\n",
              "      background-color: #E8F0FE;\n",
              "      border: none;\n",
              "      border-radius: 50%;\n",
              "      cursor: pointer;\n",
              "      display: none;\n",
              "      fill: #1967D2;\n",
              "      height: 32px;\n",
              "      padding: 0 0 0 0;\n",
              "      width: 32px;\n",
              "    }\n",
              "\n",
              "    .colab-df-convert:hover {\n",
              "      background-color: #E2EBFA;\n",
              "      box-shadow: 0px 1px 2px rgba(60, 64, 67, 0.3), 0px 1px 3px 1px rgba(60, 64, 67, 0.15);\n",
              "      fill: #174EA6;\n",
              "    }\n",
              "\n",
              "    [theme=dark] .colab-df-convert {\n",
              "      background-color: #3B4455;\n",
              "      fill: #D2E3FC;\n",
              "    }\n",
              "\n",
              "    [theme=dark] .colab-df-convert:hover {\n",
              "      background-color: #434B5C;\n",
              "      box-shadow: 0px 1px 3px 1px rgba(0, 0, 0, 0.15);\n",
              "      filter: drop-shadow(0px 1px 2px rgba(0, 0, 0, 0.3));\n",
              "      fill: #FFFFFF;\n",
              "    }\n",
              "  </style>\n",
              "\n",
              "      <script>\n",
              "        const buttonEl =\n",
              "          document.querySelector('#df-10e682d0-1c5b-4105-9030-92d91a7bbffb button.colab-df-convert');\n",
              "        buttonEl.style.display =\n",
              "          google.colab.kernel.accessAllowed ? 'block' : 'none';\n",
              "\n",
              "        async function convertToInteractive(key) {\n",
              "          const element = document.querySelector('#df-10e682d0-1c5b-4105-9030-92d91a7bbffb');\n",
              "          const dataTable =\n",
              "            await google.colab.kernel.invokeFunction('convertToInteractive',\n",
              "                                                     [key], {});\n",
              "          if (!dataTable) return;\n",
              "\n",
              "          const docLinkHtml = 'Like what you see? Visit the ' +\n",
              "            '<a target=\"_blank\" href=https://colab.research.google.com/notebooks/data_table.ipynb>data table notebook</a>'\n",
              "            + ' to learn more about interactive tables.';\n",
              "          element.innerHTML = '';\n",
              "          dataTable['output_type'] = 'display_data';\n",
              "          await google.colab.output.renderOutput(dataTable, element);\n",
              "          const docLink = document.createElement('div');\n",
              "          docLink.innerHTML = docLinkHtml;\n",
              "          element.appendChild(docLink);\n",
              "        }\n",
              "      </script>\n",
              "    </div>\n",
              "  </div>\n",
              "  "
            ]
          },
          "metadata": {},
          "execution_count": 6
        }
      ]
    },
    {
      "cell_type": "code",
      "source": [
        "df_train.shape"
      ],
      "metadata": {
        "colab": {
          "base_uri": "https://localhost:8080/"
        },
        "id": "75rgtscNqQ3T",
        "outputId": "8ddb1f26-78af-47a4-9eea-3b6c18413b84"
      },
      "execution_count": null,
      "outputs": [
        {
          "output_type": "execute_result",
          "data": {
            "text/plain": [
              "(234, 7)"
            ]
          },
          "metadata": {},
          "execution_count": 7
        }
      ]
    },
    {
      "cell_type": "markdown",
      "source": [
        "Para la parte de **test**, s va extraer la base de datos son los prestamos que están en ejecución (status in (\"C\", \"D\"). con los mismos campos de la consulta anterior"
      ],
      "metadata": {
        "id": "RZ-QY9k-G8Km"
      }
    },
    {
      "cell_type": "code",
      "source": [
        "\n",
        "\n",
        "%%sql loans_test << SELECT substr(l.date,0,3) year, amount, duration, payments, A11, A13,\n",
        "  CASE status WHEN 'C' THEN 1\n",
        "              WHEN 'D' THEN 0\n",
        "  END label\n",
        "  FROM LOAN l, ACCOUNT a INNER JOIN DISTRICT d on a.district_id = d.A1 \n",
        "  WHERE l.account_id = a.account_id and l.status in (\"C\", \"D\")"
      ],
      "metadata": {
        "colab": {
          "base_uri": "https://localhost:8080/"
        },
        "id": "i65WhpR4k9fk",
        "outputId": "2f512780-ad57-4c78-b291-38e8f3175161"
      },
      "execution_count": null,
      "outputs": [
        {
          "output_type": "stream",
          "name": "stdout",
          "text": [
            " * sqlite:///data_berka.db\n",
            "Done.\n",
            "Returning data to local variable loans_test\n"
          ]
        }
      ]
    },
    {
      "cell_type": "code",
      "source": [
        "df_test = loans_test.DataFrame()\n",
        "df_test.head()\n"
      ],
      "metadata": {
        "colab": {
          "base_uri": "https://localhost:8080/",
          "height": 206
        },
        "id": "-6l_ToDZ_j18",
        "outputId": "e53e70dc-7461-48ea-f098-465eeaa47045"
      },
      "execution_count": null,
      "outputs": [
        {
          "output_type": "execute_result",
          "data": {
            "text/plain": [
              "  year  amount  duration  payments   A11   A13  label\n",
              "0   94  253200        60      4220  9893  4.72      1\n",
              "1   94  300660        60      5011  9317  7.07      1\n",
              "2   94  167100        60      2785  8544  1.86      1\n",
              "3   94  149340        60      2489  8254  3.76      1\n",
              "4   94   89040        60      1484  8909  5.56      1"
            ],
            "text/html": [
              "\n",
              "  <div id=\"df-f59f5e5b-2e59-4a2a-8198-5e5e454e200c\">\n",
              "    <div class=\"colab-df-container\">\n",
              "      <div>\n",
              "<style scoped>\n",
              "    .dataframe tbody tr th:only-of-type {\n",
              "        vertical-align: middle;\n",
              "    }\n",
              "\n",
              "    .dataframe tbody tr th {\n",
              "        vertical-align: top;\n",
              "    }\n",
              "\n",
              "    .dataframe thead th {\n",
              "        text-align: right;\n",
              "    }\n",
              "</style>\n",
              "<table border=\"1\" class=\"dataframe\">\n",
              "  <thead>\n",
              "    <tr style=\"text-align: right;\">\n",
              "      <th></th>\n",
              "      <th>year</th>\n",
              "      <th>amount</th>\n",
              "      <th>duration</th>\n",
              "      <th>payments</th>\n",
              "      <th>A11</th>\n",
              "      <th>A13</th>\n",
              "      <th>label</th>\n",
              "    </tr>\n",
              "  </thead>\n",
              "  <tbody>\n",
              "    <tr>\n",
              "      <th>0</th>\n",
              "      <td>94</td>\n",
              "      <td>253200</td>\n",
              "      <td>60</td>\n",
              "      <td>4220</td>\n",
              "      <td>9893</td>\n",
              "      <td>4.72</td>\n",
              "      <td>1</td>\n",
              "    </tr>\n",
              "    <tr>\n",
              "      <th>1</th>\n",
              "      <td>94</td>\n",
              "      <td>300660</td>\n",
              "      <td>60</td>\n",
              "      <td>5011</td>\n",
              "      <td>9317</td>\n",
              "      <td>7.07</td>\n",
              "      <td>1</td>\n",
              "    </tr>\n",
              "    <tr>\n",
              "      <th>2</th>\n",
              "      <td>94</td>\n",
              "      <td>167100</td>\n",
              "      <td>60</td>\n",
              "      <td>2785</td>\n",
              "      <td>8544</td>\n",
              "      <td>1.86</td>\n",
              "      <td>1</td>\n",
              "    </tr>\n",
              "    <tr>\n",
              "      <th>3</th>\n",
              "      <td>94</td>\n",
              "      <td>149340</td>\n",
              "      <td>60</td>\n",
              "      <td>2489</td>\n",
              "      <td>8254</td>\n",
              "      <td>3.76</td>\n",
              "      <td>1</td>\n",
              "    </tr>\n",
              "    <tr>\n",
              "      <th>4</th>\n",
              "      <td>94</td>\n",
              "      <td>89040</td>\n",
              "      <td>60</td>\n",
              "      <td>1484</td>\n",
              "      <td>8909</td>\n",
              "      <td>5.56</td>\n",
              "      <td>1</td>\n",
              "    </tr>\n",
              "  </tbody>\n",
              "</table>\n",
              "</div>\n",
              "      <button class=\"colab-df-convert\" onclick=\"convertToInteractive('df-f59f5e5b-2e59-4a2a-8198-5e5e454e200c')\"\n",
              "              title=\"Convert this dataframe to an interactive table.\"\n",
              "              style=\"display:none;\">\n",
              "        \n",
              "  <svg xmlns=\"http://www.w3.org/2000/svg\" height=\"24px\"viewBox=\"0 0 24 24\"\n",
              "       width=\"24px\">\n",
              "    <path d=\"M0 0h24v24H0V0z\" fill=\"none\"/>\n",
              "    <path d=\"M18.56 5.44l.94 2.06.94-2.06 2.06-.94-2.06-.94-.94-2.06-.94 2.06-2.06.94zm-11 1L8.5 8.5l.94-2.06 2.06-.94-2.06-.94L8.5 2.5l-.94 2.06-2.06.94zm10 10l.94 2.06.94-2.06 2.06-.94-2.06-.94-.94-2.06-.94 2.06-2.06.94z\"/><path d=\"M17.41 7.96l-1.37-1.37c-.4-.4-.92-.59-1.43-.59-.52 0-1.04.2-1.43.59L10.3 9.45l-7.72 7.72c-.78.78-.78 2.05 0 2.83L4 21.41c.39.39.9.59 1.41.59.51 0 1.02-.2 1.41-.59l7.78-7.78 2.81-2.81c.8-.78.8-2.07 0-2.86zM5.41 20L4 18.59l7.72-7.72 1.47 1.35L5.41 20z\"/>\n",
              "  </svg>\n",
              "      </button>\n",
              "      \n",
              "  <style>\n",
              "    .colab-df-container {\n",
              "      display:flex;\n",
              "      flex-wrap:wrap;\n",
              "      gap: 12px;\n",
              "    }\n",
              "\n",
              "    .colab-df-convert {\n",
              "      background-color: #E8F0FE;\n",
              "      border: none;\n",
              "      border-radius: 50%;\n",
              "      cursor: pointer;\n",
              "      display: none;\n",
              "      fill: #1967D2;\n",
              "      height: 32px;\n",
              "      padding: 0 0 0 0;\n",
              "      width: 32px;\n",
              "    }\n",
              "\n",
              "    .colab-df-convert:hover {\n",
              "      background-color: #E2EBFA;\n",
              "      box-shadow: 0px 1px 2px rgba(60, 64, 67, 0.3), 0px 1px 3px 1px rgba(60, 64, 67, 0.15);\n",
              "      fill: #174EA6;\n",
              "    }\n",
              "\n",
              "    [theme=dark] .colab-df-convert {\n",
              "      background-color: #3B4455;\n",
              "      fill: #D2E3FC;\n",
              "    }\n",
              "\n",
              "    [theme=dark] .colab-df-convert:hover {\n",
              "      background-color: #434B5C;\n",
              "      box-shadow: 0px 1px 3px 1px rgba(0, 0, 0, 0.15);\n",
              "      filter: drop-shadow(0px 1px 2px rgba(0, 0, 0, 0.3));\n",
              "      fill: #FFFFFF;\n",
              "    }\n",
              "  </style>\n",
              "\n",
              "      <script>\n",
              "        const buttonEl =\n",
              "          document.querySelector('#df-f59f5e5b-2e59-4a2a-8198-5e5e454e200c button.colab-df-convert');\n",
              "        buttonEl.style.display =\n",
              "          google.colab.kernel.accessAllowed ? 'block' : 'none';\n",
              "\n",
              "        async function convertToInteractive(key) {\n",
              "          const element = document.querySelector('#df-f59f5e5b-2e59-4a2a-8198-5e5e454e200c');\n",
              "          const dataTable =\n",
              "            await google.colab.kernel.invokeFunction('convertToInteractive',\n",
              "                                                     [key], {});\n",
              "          if (!dataTable) return;\n",
              "\n",
              "          const docLinkHtml = 'Like what you see? Visit the ' +\n",
              "            '<a target=\"_blank\" href=https://colab.research.google.com/notebooks/data_table.ipynb>data table notebook</a>'\n",
              "            + ' to learn more about interactive tables.';\n",
              "          element.innerHTML = '';\n",
              "          dataTable['output_type'] = 'display_data';\n",
              "          await google.colab.output.renderOutput(dataTable, element);\n",
              "          const docLink = document.createElement('div');\n",
              "          docLink.innerHTML = docLinkHtml;\n",
              "          element.appendChild(docLink);\n",
              "        }\n",
              "      </script>\n",
              "    </div>\n",
              "  </div>\n",
              "  "
            ]
          },
          "metadata": {},
          "execution_count": 9
        }
      ]
    },
    {
      "cell_type": "markdown",
      "source": [
        "Ejercicio: Añadir la edad del cliente propietario de la cuenta del prestamo.\n"
      ],
      "metadata": {
        "id": "6qRaWxnkcLC3"
      }
    },
    {
      "cell_type": "code",
      "source": [
        "%%sql \n",
        "select substr(lo.date,0,3) concession_loan, amount, duration, payments, A11, A13, 99-substr(cl.birth_number,0,3) year ,lo.date,\n",
        "CASE status WHEN 'A' THEN 1 --el case es una condición mas del select, sustityo los valores indicados\n",
        "            WHEN 'B' THEN 0\n",
        "END label\n",
        "from LOAN lo, ACCOUNT ac, DISTRICT dist, CLIENT cl, DISPOSITION disp\n",
        "where lo.account_id = ac.account_id\n",
        "and ac.account_id = disp.account_id\n",
        "and disp.client_id = cl.client_id\n",
        "and cl.district_id = dist.a1\n",
        "and lo.status in (\"A\", \"B\")\n",
        "limit 10"
      ],
      "metadata": {
        "colab": {
          "base_uri": "https://localhost:8080/",
          "height": 289
        },
        "id": "dpwgRcLZlJvp",
        "outputId": "bb41d57d-0ba0-411a-ff0e-935ed4464087"
      },
      "execution_count": null,
      "outputs": [
        {
          "output_type": "stream",
          "name": "stdout",
          "text": [
            " * sqlite:///data_berka.db\n",
            "Done.\n"
          ]
        },
        {
          "output_type": "execute_result",
          "data": {
            "text/plain": [
              "[('94', 80952, 24, 3373, 12541, 0.43, 54, 940105, 1),\n",
              " ('94', 80952, 24, 3373, 12541, 0.43, 59, 940105, 1),\n",
              " ('96', 30276, 12, 2523, 9104, 2.07, 60, 960429, 0),\n",
              " ('97', 30276, 12, 2523, 9893, 4.72, 37, 971208, 1),\n",
              " ('96', 165960, 24, 6915, 8427, 1.54, 55, 960502, 1),\n",
              " ('97', 102876, 12, 8573, 10673, 5.44, 57, 970810, 1),\n",
              " ('97', 102876, 12, 8573, 10673, 5.44, 63, 970810, 1),\n",
              " ('96', 88440, 12, 7370, 9317, 7.07, 54, 961106, 1),\n",
              " ('96', 88440, 12, 7370, 9317, 7.07, 61, 961106, 1),\n",
              " ('94', 104808, 12, 8734, 8512, 4.12, 60, 940531, 1)]"
            ],
            "text/html": [
              "<table>\n",
              "    <thead>\n",
              "        <tr>\n",
              "            <th>concession_loan</th>\n",
              "            <th>amount</th>\n",
              "            <th>duration</th>\n",
              "            <th>payments</th>\n",
              "            <th>A11</th>\n",
              "            <th>A13</th>\n",
              "            <th>year</th>\n",
              "            <th>date</th>\n",
              "            <th>label</th>\n",
              "        </tr>\n",
              "    </thead>\n",
              "    <tbody>\n",
              "        <tr>\n",
              "            <td>94</td>\n",
              "            <td>80952</td>\n",
              "            <td>24</td>\n",
              "            <td>3373</td>\n",
              "            <td>12541</td>\n",
              "            <td>0.43</td>\n",
              "            <td>54</td>\n",
              "            <td>940105</td>\n",
              "            <td>1</td>\n",
              "        </tr>\n",
              "        <tr>\n",
              "            <td>94</td>\n",
              "            <td>80952</td>\n",
              "            <td>24</td>\n",
              "            <td>3373</td>\n",
              "            <td>12541</td>\n",
              "            <td>0.43</td>\n",
              "            <td>59</td>\n",
              "            <td>940105</td>\n",
              "            <td>1</td>\n",
              "        </tr>\n",
              "        <tr>\n",
              "            <td>96</td>\n",
              "            <td>30276</td>\n",
              "            <td>12</td>\n",
              "            <td>2523</td>\n",
              "            <td>9104</td>\n",
              "            <td>2.07</td>\n",
              "            <td>60</td>\n",
              "            <td>960429</td>\n",
              "            <td>0</td>\n",
              "        </tr>\n",
              "        <tr>\n",
              "            <td>97</td>\n",
              "            <td>30276</td>\n",
              "            <td>12</td>\n",
              "            <td>2523</td>\n",
              "            <td>9893</td>\n",
              "            <td>4.72</td>\n",
              "            <td>37</td>\n",
              "            <td>971208</td>\n",
              "            <td>1</td>\n",
              "        </tr>\n",
              "        <tr>\n",
              "            <td>96</td>\n",
              "            <td>165960</td>\n",
              "            <td>24</td>\n",
              "            <td>6915</td>\n",
              "            <td>8427</td>\n",
              "            <td>1.54</td>\n",
              "            <td>55</td>\n",
              "            <td>960502</td>\n",
              "            <td>1</td>\n",
              "        </tr>\n",
              "        <tr>\n",
              "            <td>97</td>\n",
              "            <td>102876</td>\n",
              "            <td>12</td>\n",
              "            <td>8573</td>\n",
              "            <td>10673</td>\n",
              "            <td>5.44</td>\n",
              "            <td>57</td>\n",
              "            <td>970810</td>\n",
              "            <td>1</td>\n",
              "        </tr>\n",
              "        <tr>\n",
              "            <td>97</td>\n",
              "            <td>102876</td>\n",
              "            <td>12</td>\n",
              "            <td>8573</td>\n",
              "            <td>10673</td>\n",
              "            <td>5.44</td>\n",
              "            <td>63</td>\n",
              "            <td>970810</td>\n",
              "            <td>1</td>\n",
              "        </tr>\n",
              "        <tr>\n",
              "            <td>96</td>\n",
              "            <td>88440</td>\n",
              "            <td>12</td>\n",
              "            <td>7370</td>\n",
              "            <td>9317</td>\n",
              "            <td>7.07</td>\n",
              "            <td>54</td>\n",
              "            <td>961106</td>\n",
              "            <td>1</td>\n",
              "        </tr>\n",
              "        <tr>\n",
              "            <td>96</td>\n",
              "            <td>88440</td>\n",
              "            <td>12</td>\n",
              "            <td>7370</td>\n",
              "            <td>9317</td>\n",
              "            <td>7.07</td>\n",
              "            <td>61</td>\n",
              "            <td>961106</td>\n",
              "            <td>1</td>\n",
              "        </tr>\n",
              "        <tr>\n",
              "            <td>94</td>\n",
              "            <td>104808</td>\n",
              "            <td>12</td>\n",
              "            <td>8734</td>\n",
              "            <td>8512</td>\n",
              "            <td>4.12</td>\n",
              "            <td>60</td>\n",
              "            <td>940531</td>\n",
              "            <td>1</td>\n",
              "        </tr>\n",
              "    </tbody>\n",
              "</table>"
            ]
          },
          "metadata": {},
          "execution_count": 10
        }
      ]
    },
    {
      "cell_type": "markdown",
      "source": [
        "Ejercicio: añadir la edad del cliente propietario de la cuenta del prestamo y algún campo de datos demográficos"
      ],
      "metadata": {
        "id": "NbZ2DjmzHl3-"
      }
    },
    {
      "cell_type": "code",
      "source": [
        "%%sql \n",
        "select substr(lo.date,0,3) concession_loan, amount, duration, payments, A11, A13, 99-substr(cl.birth_number,0,3) year ,lo.date, A16 criminalidad_16,\n",
        "CASE status WHEN 'A' THEN 1 --el case es una condición mas del select, sustityo los valores indicados\n",
        "            WHEN 'B' THEN 0\n",
        "END label\n",
        "from LOAN lo, ACCOUNT ac, DISTRICT dist, CLIENT cl, DISPOSITION disp\n",
        "where lo.account_id = ac.account_id\n",
        "and ac.account_id = disp.account_id\n",
        "and disp.client_id = cl.client_id\n",
        "and cl.district_id = dist.a1\n",
        "and lo.status in (\"A\", \"B\")\n",
        "limit 10"
      ],
      "metadata": {
        "id": "L1RqZSb6Hmae",
        "colab": {
          "base_uri": "https://localhost:8080/",
          "height": 289
        },
        "outputId": "78157231-ab67-425d-bffa-e40acaffc14d"
      },
      "execution_count": null,
      "outputs": [
        {
          "output_type": "stream",
          "name": "stdout",
          "text": [
            " * sqlite:///data_berka.db\n",
            "Done.\n"
          ]
        },
        {
          "output_type": "execute_result",
          "data": {
            "text/plain": [
              "[('94', 80952, 24, 3373, 12541, 0.43, 54, 940105, 99107, 1),\n",
              " ('94', 80952, 24, 3373, 12541, 0.43, 59, 940105, 99107, 1),\n",
              " ('96', 30276, 12, 2523, 9104, 2.07, 60, 960429, 2354, 0),\n",
              " ('97', 30276, 12, 2523, 9893, 4.72, 37, 971208, 5887, 1),\n",
              " ('96', 165960, 24, 6915, 8427, 1.54, 55, 960502, 1913, 1),\n",
              " ('97', 102876, 12, 8573, 10673, 5.44, 57, 970810, 18347, 1),\n",
              " ('97', 102876, 12, 8573, 10673, 5.44, 63, 970810, 18347, 1),\n",
              " ('96', 88440, 12, 7370, 9317, 7.07, 54, 961106, 6872, 1),\n",
              " ('96', 88440, 12, 7370, 9317, 7.07, 61, 961106, 6872, 1),\n",
              " ('94', 104808, 12, 8734, 8512, 4.12, 60, 940531, 2103, 1)]"
            ],
            "text/html": [
              "<table>\n",
              "    <thead>\n",
              "        <tr>\n",
              "            <th>concession_loan</th>\n",
              "            <th>amount</th>\n",
              "            <th>duration</th>\n",
              "            <th>payments</th>\n",
              "            <th>A11</th>\n",
              "            <th>A13</th>\n",
              "            <th>year</th>\n",
              "            <th>date</th>\n",
              "            <th>criminalidad_16</th>\n",
              "            <th>label</th>\n",
              "        </tr>\n",
              "    </thead>\n",
              "    <tbody>\n",
              "        <tr>\n",
              "            <td>94</td>\n",
              "            <td>80952</td>\n",
              "            <td>24</td>\n",
              "            <td>3373</td>\n",
              "            <td>12541</td>\n",
              "            <td>0.43</td>\n",
              "            <td>54</td>\n",
              "            <td>940105</td>\n",
              "            <td>99107</td>\n",
              "            <td>1</td>\n",
              "        </tr>\n",
              "        <tr>\n",
              "            <td>94</td>\n",
              "            <td>80952</td>\n",
              "            <td>24</td>\n",
              "            <td>3373</td>\n",
              "            <td>12541</td>\n",
              "            <td>0.43</td>\n",
              "            <td>59</td>\n",
              "            <td>940105</td>\n",
              "            <td>99107</td>\n",
              "            <td>1</td>\n",
              "        </tr>\n",
              "        <tr>\n",
              "            <td>96</td>\n",
              "            <td>30276</td>\n",
              "            <td>12</td>\n",
              "            <td>2523</td>\n",
              "            <td>9104</td>\n",
              "            <td>2.07</td>\n",
              "            <td>60</td>\n",
              "            <td>960429</td>\n",
              "            <td>2354</td>\n",
              "            <td>0</td>\n",
              "        </tr>\n",
              "        <tr>\n",
              "            <td>97</td>\n",
              "            <td>30276</td>\n",
              "            <td>12</td>\n",
              "            <td>2523</td>\n",
              "            <td>9893</td>\n",
              "            <td>4.72</td>\n",
              "            <td>37</td>\n",
              "            <td>971208</td>\n",
              "            <td>5887</td>\n",
              "            <td>1</td>\n",
              "        </tr>\n",
              "        <tr>\n",
              "            <td>96</td>\n",
              "            <td>165960</td>\n",
              "            <td>24</td>\n",
              "            <td>6915</td>\n",
              "            <td>8427</td>\n",
              "            <td>1.54</td>\n",
              "            <td>55</td>\n",
              "            <td>960502</td>\n",
              "            <td>1913</td>\n",
              "            <td>1</td>\n",
              "        </tr>\n",
              "        <tr>\n",
              "            <td>97</td>\n",
              "            <td>102876</td>\n",
              "            <td>12</td>\n",
              "            <td>8573</td>\n",
              "            <td>10673</td>\n",
              "            <td>5.44</td>\n",
              "            <td>57</td>\n",
              "            <td>970810</td>\n",
              "            <td>18347</td>\n",
              "            <td>1</td>\n",
              "        </tr>\n",
              "        <tr>\n",
              "            <td>97</td>\n",
              "            <td>102876</td>\n",
              "            <td>12</td>\n",
              "            <td>8573</td>\n",
              "            <td>10673</td>\n",
              "            <td>5.44</td>\n",
              "            <td>63</td>\n",
              "            <td>970810</td>\n",
              "            <td>18347</td>\n",
              "            <td>1</td>\n",
              "        </tr>\n",
              "        <tr>\n",
              "            <td>96</td>\n",
              "            <td>88440</td>\n",
              "            <td>12</td>\n",
              "            <td>7370</td>\n",
              "            <td>9317</td>\n",
              "            <td>7.07</td>\n",
              "            <td>54</td>\n",
              "            <td>961106</td>\n",
              "            <td>6872</td>\n",
              "            <td>1</td>\n",
              "        </tr>\n",
              "        <tr>\n",
              "            <td>96</td>\n",
              "            <td>88440</td>\n",
              "            <td>12</td>\n",
              "            <td>7370</td>\n",
              "            <td>9317</td>\n",
              "            <td>7.07</td>\n",
              "            <td>61</td>\n",
              "            <td>961106</td>\n",
              "            <td>6872</td>\n",
              "            <td>1</td>\n",
              "        </tr>\n",
              "        <tr>\n",
              "            <td>94</td>\n",
              "            <td>104808</td>\n",
              "            <td>12</td>\n",
              "            <td>8734</td>\n",
              "            <td>8512</td>\n",
              "            <td>4.12</td>\n",
              "            <td>60</td>\n",
              "            <td>940531</td>\n",
              "            <td>2103</td>\n",
              "            <td>1</td>\n",
              "        </tr>\n",
              "    </tbody>\n",
              "</table>"
            ]
          },
          "metadata": {},
          "execution_count": 11
        }
      ]
    },
    {
      "cell_type": "markdown",
      "metadata": {
        "id": "AcgHrYibsQn3"
      },
      "source": [
        "4. División de los datos en entrenamiento y test"
      ]
    },
    {
      "cell_type": "markdown",
      "source": [
        "`features`: es una variable de tipo lista que me almacena los nombres de las características que sirven como entrada"
      ],
      "metadata": {
        "id": "S5GM-M8tInQm"
      }
    },
    {
      "cell_type": "code",
      "source": [
        "features = [\"year\", \"amount\", \"duration\", \"payments\",\"A11\", \"A13\"]"
      ],
      "metadata": {
        "id": "mH1b4h27kA85"
      },
      "execution_count": null,
      "outputs": []
    },
    {
      "cell_type": "markdown",
      "source": [
        "- train (creación del modelo): datos de préstamos ya finalizados.\n",
        "- Test (evaluación del modelo): datos de prestamos en ejecución"
      ],
      "metadata": {
        "id": "HD20b1IrIazG"
      }
    },
    {
      "cell_type": "code",
      "metadata": {
        "id": "iRV2W22-sTKg"
      },
      "source": [
        "X_train = df_train[features]\n",
        "y_train = df_train[\"label\"]\n",
        "\n",
        "X_test = df_test[features]\n",
        "y_test = df_test[\"label\"]\n"
      ],
      "execution_count": null,
      "outputs": []
    },
    {
      "cell_type": "code",
      "source": [],
      "metadata": {
        "id": "kteF33C52NJs"
      },
      "execution_count": null,
      "outputs": []
    },
    {
      "cell_type": "markdown",
      "source": [
        "5. Normalizarlos puede ser una buena medida para obtener mejores resultados.\n",
        "Para ello vamos a utilizar el [StandardScaler](https://scikit-learn.org/stable/modules/generated/sklearn.preprocessing.StandardScaler.html)\n",
        "\n",
        "El centrado y el escalado se realizan de forma independiente en cada característica, calculando las estadísticas pertinentes en las muestras del **conjunto de entrenamiento**. La media y la desviación estándar se almacenan para utilizarlas en datos posteriores mediante una **transformación**.\n",
        "\n",
        "Mas información sobre normalización en el siguiente [enlace](https://scikit-learn.org/stable/modules/preprocessing.html#preprocessing-scaler)\n"
      ],
      "metadata": {
        "id": "TWn1Xr-Cqas7"
      }
    },
    {
      "cell_type": "markdown",
      "source": [],
      "metadata": {
        "id": "CsBrQXsRJs3u"
      }
    },
    {
      "cell_type": "markdown",
      "source": [
        "Toda transformación de los datos debe ser con el conjunto de train ya que suponemos que los datos de test no sabemos, y luego se aplican las transformaciónes a train y test."
      ],
      "metadata": {
        "id": "rwGzt_1QKM7G"
      }
    },
    {
      "cell_type": "code",
      "source": [
        "from sklearn.preprocessing import StandardScaler\n",
        "scaler = StandardScaler()\n",
        "# calculo de los factores de centrado y escalado\n",
        "scaler.fit(X_train) \n",
        "# transformación\n",
        "X_train = scaler.transform(X_train)\n",
        "X_test = scaler.transform(X_test)"
      ],
      "metadata": {
        "id": "BaaMrekmpKH3"
      },
      "execution_count": null,
      "outputs": []
    },
    {
      "cell_type": "code",
      "source": [
        "X_train"
      ],
      "metadata": {
        "colab": {
          "base_uri": "https://localhost:8080/"
        },
        "id": "OWszYhgN1EHs",
        "outputId": "f80ce728-4937-4697-d783-6ee3a79d896d"
      },
      "execution_count": null,
      "outputs": [
        {
          "output_type": "execute_result",
          "data": {
            "text/plain": [
              "array([[-1.57281810e+00, -2.43174486e-02, -9.02269372e-01,\n",
              "         1.62615210e+00, -1.48692036e-03,  6.65458047e-02],\n",
              "       [-1.57281810e+00,  9.43740376e-01,  1.12783671e+00,\n",
              "         8.80192763e-02, -9.12959978e-01, -5.34747122e-01],\n",
              "       [-1.57281810e+00,  4.02683389e-01,  3.15794280e+00,\n",
              "        -1.03176658e+00, -8.98017797e-01, -2.78313374e-01],\n",
              "       ...,\n",
              "       [ 1.59993565e+00, -7.28860482e-01, -9.02269372e-01,\n",
              "        -2.69665131e-01, -5.92770380e-01,  9.46378837e-01],\n",
              "       [ 1.59993565e+00, -7.69606749e-01, -9.02269372e-01,\n",
              "        -3.79307085e-01,  3.73490677e-01,  1.87042459e+00],\n",
              "       [ 1.59993565e+00, -2.54934640e-01, -9.02269372e-01,\n",
              "         1.00559661e+00, -7.50019049e-01, -1.14726328e-01]])"
            ]
          },
          "metadata": {},
          "execution_count": 15
        }
      ]
    },
    {
      "cell_type": "code",
      "source": [],
      "metadata": {
        "id": "7D_7AYHF1esg"
      },
      "execution_count": null,
      "outputs": []
    },
    {
      "cell_type": "markdown",
      "source": [],
      "metadata": {
        "id": "6a0w4fZVdskq"
      }
    },
    {
      "cell_type": "markdown",
      "source": [
        "Aplicamos un modelo [NaiveBayes](https://scikit-learn.org/stable/modules/naive_bayes.html?highlight=naive+bayes) para construir un clasificador de préstamos"
      ],
      "metadata": {
        "id": "Uf-IVArsl8qM"
      }
    },
    {
      "cell_type": "markdown",
      "source": [
        "- gaussian: para variables continuas\n",
        "- multi: son para variables de conteo\n",
        "- bernoulli: cuando las variables binarias\n",
        "- compl: sirve para dataset no balanceado \n",
        "\n",
        "se pueden pasar los datos de un grupo a otro discretizando"
      ],
      "metadata": {
        "id": "jo-8tOx7JBeW"
      }
    },
    {
      "cell_type": "code",
      "source": [
        "from sklearn.naive_bayes import GaussianNB #, MultinomialNB, BernoulliNB, ComplementNB\n",
        "\n",
        "gnb = GaussianNB()\n",
        "clf = gnb.fit(X_train, y_train)\n",
        "y_pred = clf.predict(X_test)\n",
        "print(\"Número de préstamos clasificados erroneamente %d de un total de  %d\"  % (X_test.shape[0], (y_test != y_pred).sum()))\n"
      ],
      "metadata": {
        "colab": {
          "base_uri": "https://localhost:8080/"
        },
        "id": "MZHrLj9inBOv",
        "outputId": "208a19b3-d0b7-4a27-edb4-52690c42f910"
      },
      "execution_count": null,
      "outputs": [
        {
          "output_type": "stream",
          "name": "stdout",
          "text": [
            "Número de préstamos clasificados erroneamente 448 de un total de  123\n"
          ]
        }
      ]
    },
    {
      "cell_type": "markdown",
      "source": [
        "Para ver que resultados tenemos sobre la colección de `test` utilizamos en primer lugar el informe de los resultados [`classification report`](https://scikit-learn.org/stable/modules/model_evaluation.html#classification-report)"
      ],
      "metadata": {
        "id": "sSXcCuddmOFV"
      }
    },
    {
      "cell_type": "code",
      "source": [
        "from sklearn.metrics import classification_report\n",
        "print(classification_report(y_test, y_pred, labels=clf.classes_))"
      ],
      "metadata": {
        "colab": {
          "base_uri": "https://localhost:8080/"
        },
        "id": "f9BITuBznBAC",
        "outputId": "327bd64e-5bca-49f7-e004-c3145bee3fbb"
      },
      "execution_count": null,
      "outputs": [
        {
          "output_type": "stream",
          "name": "stdout",
          "text": [
            "              precision    recall  f1-score   support\n",
            "\n",
            "           0       0.20      0.60      0.31        45\n",
            "           1       0.94      0.74      0.83       403\n",
            "\n",
            "    accuracy                           0.73       448\n",
            "   macro avg       0.57      0.67      0.57       448\n",
            "weighted avg       0.87      0.73      0.78       448\n",
            "\n"
          ]
        }
      ]
    },
    {
      "cell_type": "markdown",
      "source": [
        "Y la [matriz de confusión](https://scikit-learn.org/stable/modules/generated/sklearn.metrics.ConfusionMatrixDisplay.html)"
      ],
      "metadata": {
        "id": "rosWtD4MnPAw"
      }
    },
    {
      "cell_type": "markdown",
      "source": [
        "Classification_report esta para todas las api. Sirve para comprabar la valided"
      ],
      "metadata": {
        "id": "wbzfh-WILAz3"
      }
    },
    {
      "cell_type": "code",
      "source": [
        "import matplotlib.pyplot as plt\n",
        "from sklearn.metrics import confusion_matrix, ConfusionMatrixDisplay\n",
        "cm = confusion_matrix(y_test, y_pred, labels= clf.classes_)\n",
        "disp = ConfusionMatrixDisplay(confusion_matrix=cm, display_labels=clf.classes_)\n",
        "disp.plot()"
      ],
      "metadata": {
        "colab": {
          "base_uri": "https://localhost:8080/",
          "height": 296
        },
        "id": "qSZzOldtoOku",
        "outputId": "67846e7e-f2f3-4e64-d19f-07eef157be7e"
      },
      "execution_count": null,
      "outputs": [
        {
          "output_type": "execute_result",
          "data": {
            "text/plain": [
              "<sklearn.metrics._plot.confusion_matrix.ConfusionMatrixDisplay at 0x7f5ee1509150>"
            ]
          },
          "metadata": {},
          "execution_count": 18
        },
        {
          "output_type": "display_data",
          "data": {
            "text/plain": [
              "<Figure size 432x288 with 2 Axes>"
            ],
            "image/png": "[encoded data removed]"
          },
          "metadata": {
            "needs_background": "light"
          }
        }
      ]
    },
    {
      "cell_type": "markdown",
      "source": [
        "es una matriz de verdadero y label, esta matriz sirve para validar el modelo, Hay que tener encuenta el problema ya que el coste de un falso positivo o un falso negativo puede ser costoso."
      ],
      "metadata": {
        "id": "aLXbpV2NLPHe"
      }
    },
    {
      "cell_type": "markdown",
      "source": [
        "**Ejercicios**\n",
        "\n",
        "Plantear el clasificador de préstamos añadiendo datos de otras tablas de la base de datos, u otros campos de las mismas tablas (edad del cliente, etc).\n",
        "\n",
        "Otras transformaciones: [Discretización](https://scikit-learn.org/stable/modules/preprocessing.html#preprocessing-discretization) y utilización de otros clasificadores NB"
      ],
      "metadata": {
        "id": "rPkodIffcBxb"
      }
    },
    {
      "cell_type": "code",
      "source": [
        "\n",
        "\n",
        "%%sql \n",
        "select substr(lo.date,0,3) concession_loan, amount, duration, payments, A11, A13, 99-substr(cl.birth_number,0,3) year ,lo.date, a16 criminalidad,\n",
        "CASE status WHEN 'A' THEN 1 --el case es una condición mas del select, sustityo los valores indicados\n",
        "              WHEN 'B' THEN 0\n",
        "END label\n",
        "from LOAN lo, ACCOUNT ac, DISTRICT dist, CLIENT cl, DISPOSITION disp\n",
        "where lo.account_id = ac.account_id\n",
        "and ac.account_id = disp.account_id\n",
        "and disp.client_id = cl.client_id\n",
        "and cl.district_id = dist.a1\n",
        "and lo.status in (\"A\", \"B\")\n",
        "limit 10"
      ],
      "metadata": {
        "colab": {
          "base_uri": "https://localhost:8080/",
          "height": 289
        },
        "id": "y7acJrFkM-GX",
        "outputId": "51625160-6f74-481b-e916-1abf7cb63cb6"
      },
      "execution_count": null,
      "outputs": [
        {
          "output_type": "stream",
          "name": "stdout",
          "text": [
            " * sqlite:///data_berka.db\n",
            "Done.\n"
          ]
        },
        {
          "output_type": "execute_result",
          "data": {
            "text/plain": [
              "[('94', 80952, 24, 3373, 12541, 0.43, 54, 940105, 99107, 1),\n",
              " ('94', 80952, 24, 3373, 12541, 0.43, 59, 940105, 99107, 1),\n",
              " ('96', 30276, 12, 2523, 9104, 2.07, 60, 960429, 2354, 0),\n",
              " ('97', 30276, 12, 2523, 9893, 4.72, 37, 971208, 5887, 1),\n",
              " ('96', 165960, 24, 6915, 8427, 1.54, 55, 960502, 1913, 1),\n",
              " ('97', 102876, 12, 8573, 10673, 5.44, 57, 970810, 18347, 1),\n",
              " ('97', 102876, 12, 8573, 10673, 5.44, 63, 970810, 18347, 1),\n",
              " ('96', 88440, 12, 7370, 9317, 7.07, 54, 961106, 6872, 1),\n",
              " ('96', 88440, 12, 7370, 9317, 7.07, 61, 961106, 6872, 1),\n",
              " ('94', 104808, 12, 8734, 8512, 4.12, 60, 940531, 2103, 1)]"
            ],
            "text/html": [
              "<table>\n",
              "    <thead>\n",
              "        <tr>\n",
              "            <th>concession_loan</th>\n",
              "            <th>amount</th>\n",
              "            <th>duration</th>\n",
              "            <th>payments</th>\n",
              "            <th>A11</th>\n",
              "            <th>A13</th>\n",
              "            <th>year</th>\n",
              "            <th>date</th>\n",
              "            <th>criminalidad</th>\n",
              "            <th>label</th>\n",
              "        </tr>\n",
              "    </thead>\n",
              "    <tbody>\n",
              "        <tr>\n",
              "            <td>94</td>\n",
              "            <td>80952</td>\n",
              "            <td>24</td>\n",
              "            <td>3373</td>\n",
              "            <td>12541</td>\n",
              "            <td>0.43</td>\n",
              "            <td>54</td>\n",
              "            <td>940105</td>\n",
              "            <td>99107</td>\n",
              "            <td>1</td>\n",
              "        </tr>\n",
              "        <tr>\n",
              "            <td>94</td>\n",
              "            <td>80952</td>\n",
              "            <td>24</td>\n",
              "            <td>3373</td>\n",
              "            <td>12541</td>\n",
              "            <td>0.43</td>\n",
              "            <td>59</td>\n",
              "            <td>940105</td>\n",
              "            <td>99107</td>\n",
              "            <td>1</td>\n",
              "        </tr>\n",
              "        <tr>\n",
              "            <td>96</td>\n",
              "            <td>30276</td>\n",
              "            <td>12</td>\n",
              "            <td>2523</td>\n",
              "            <td>9104</td>\n",
              "            <td>2.07</td>\n",
              "            <td>60</td>\n",
              "            <td>960429</td>\n",
              "            <td>2354</td>\n",
              "            <td>0</td>\n",
              "        </tr>\n",
              "        <tr>\n",
              "            <td>97</td>\n",
              "            <td>30276</td>\n",
              "            <td>12</td>\n",
              "            <td>2523</td>\n",
              "            <td>9893</td>\n",
              "            <td>4.72</td>\n",
              "            <td>37</td>\n",
              "            <td>971208</td>\n",
              "            <td>5887</td>\n",
              "            <td>1</td>\n",
              "        </tr>\n",
              "        <tr>\n",
              "            <td>96</td>\n",
              "            <td>165960</td>\n",
              "            <td>24</td>\n",
              "            <td>6915</td>\n",
              "            <td>8427</td>\n",
              "            <td>1.54</td>\n",
              "            <td>55</td>\n",
              "            <td>960502</td>\n",
              "            <td>1913</td>\n",
              "            <td>1</td>\n",
              "        </tr>\n",
              "        <tr>\n",
              "            <td>97</td>\n",
              "            <td>102876</td>\n",
              "            <td>12</td>\n",
              "            <td>8573</td>\n",
              "            <td>10673</td>\n",
              "            <td>5.44</td>\n",
              "            <td>57</td>\n",
              "            <td>970810</td>\n",
              "            <td>18347</td>\n",
              "            <td>1</td>\n",
              "        </tr>\n",
              "        <tr>\n",
              "            <td>97</td>\n",
              "            <td>102876</td>\n",
              "            <td>12</td>\n",
              "            <td>8573</td>\n",
              "            <td>10673</td>\n",
              "            <td>5.44</td>\n",
              "            <td>63</td>\n",
              "            <td>970810</td>\n",
              "            <td>18347</td>\n",
              "            <td>1</td>\n",
              "        </tr>\n",
              "        <tr>\n",
              "            <td>96</td>\n",
              "            <td>88440</td>\n",
              "            <td>12</td>\n",
              "            <td>7370</td>\n",
              "            <td>9317</td>\n",
              "            <td>7.07</td>\n",
              "            <td>54</td>\n",
              "            <td>961106</td>\n",
              "            <td>6872</td>\n",
              "            <td>1</td>\n",
              "        </tr>\n",
              "        <tr>\n",
              "            <td>96</td>\n",
              "            <td>88440</td>\n",
              "            <td>12</td>\n",
              "            <td>7370</td>\n",
              "            <td>9317</td>\n",
              "            <td>7.07</td>\n",
              "            <td>61</td>\n",
              "            <td>961106</td>\n",
              "            <td>6872</td>\n",
              "            <td>1</td>\n",
              "        </tr>\n",
              "        <tr>\n",
              "            <td>94</td>\n",
              "            <td>104808</td>\n",
              "            <td>12</td>\n",
              "            <td>8734</td>\n",
              "            <td>8512</td>\n",
              "            <td>4.12</td>\n",
              "            <td>60</td>\n",
              "            <td>940531</td>\n",
              "            <td>2103</td>\n",
              "            <td>1</td>\n",
              "        </tr>\n",
              "    </tbody>\n",
              "</table>"
            ]
          },
          "metadata": {},
          "execution_count": 19
        }
      ]
    },
    {
      "cell_type": "code",
      "source": [
        "%%sql loans_train_2 << select substr(lo.date,0,3) concession_loan, amount, duration, payments, A11, A13, 99-substr(cl.birth_number,0,3) year ,lo.date, a16 criminalidad,\n",
        "  CASE status WHEN 'A' THEN 1 \n",
        "              WHEN 'B' THEN 0\n",
        "  END label\n",
        "\n",
        "  FROM LOAN lo inner join ACCOUNT ac on lo.account_id = ac.account_id\n",
        "             inner join DISPOSITION disp on ac.account_id = disp.account_id\n",
        "             inner join CLIENT cl on disp.client_id = cl.client_id\n",
        "             inner join DISTRICT dist on cl.district_id = dist.a1\n",
        "  Where lo.status in (\"A\", \"B\")\n"
      ],
      "metadata": {
        "colab": {
          "base_uri": "https://localhost:8080/"
        },
        "id": "MWmlEzokQ_t3",
        "outputId": "cfee17bc-09b4-44d0-c0d1-1d22d3e33545"
      },
      "execution_count": null,
      "outputs": [
        {
          "output_type": "stream",
          "name": "stdout",
          "text": [
            " * sqlite:///data_berka.db\n",
            "Done.\n",
            "Returning data to local variable loans_train_2\n"
          ]
        }
      ]
    },
    {
      "cell_type": "code",
      "source": [
        "df_train_2 = loans_train_2.DataFrame()\n",
        "df_train_2.head()\n"
      ],
      "metadata": {
        "colab": {
          "base_uri": "https://localhost:8080/",
          "height": 206
        },
        "id": "3RB_210Fnoyu",
        "outputId": "c032df50-9e7c-4343-e4ff-70a61fa07cf7"
      },
      "execution_count": null,
      "outputs": [
        {
          "output_type": "execute_result",
          "data": {
            "text/plain": [
              "  concession_loan  amount  duration  payments    A11   A13  year    date  \\\n",
              "0              94   80952        24      3373  12541  0.43    54  940105   \n",
              "1              94   80952        24      3373  12541  0.43    59  940105   \n",
              "2              96   30276        12      2523   9104  2.07    60  960429   \n",
              "3              97   30276        12      2523   9893  4.72    37  971208   \n",
              "4              96  165960        24      6915   8427  1.54    55  960502   \n",
              "\n",
              "   criminalidad  label  \n",
              "0         99107      1  \n",
              "1         99107      1  \n",
              "2          2354      0  \n",
              "3          5887      1  \n",
              "4          1913      1  "
            ],
            "text/html": [
              "\n",
              "  <div id=\"df-e75acf38-34a4-4247-be9d-647243dff960\">\n",
              "    <div class=\"colab-df-container\">\n",
              "      <div>\n",
              "<style scoped>\n",
              "    .dataframe tbody tr th:only-of-type {\n",
              "        vertical-align: middle;\n",
              "    }\n",
              "\n",
              "    .dataframe tbody tr th {\n",
              "        vertical-align: top;\n",
              "    }\n",
              "\n",
              "    .dataframe thead th {\n",
              "        text-align: right;\n",
              "    }\n",
              "</style>\n",
              "<table border=\"1\" class=\"dataframe\">\n",
              "  <thead>\n",
              "    <tr style=\"text-align: right;\">\n",
              "      <th></th>\n",
              "      <th>concession_loan</th>\n",
              "      <th>amount</th>\n",
              "      <th>duration</th>\n",
              "      <th>payments</th>\n",
              "      <th>A11</th>\n",
              "      <th>A13</th>\n",
              "      <th>year</th>\n",
              "      <th>date</th>\n",
              "      <th>criminalidad</th>\n",
              "      <th>label</th>\n",
              "    </tr>\n",
              "  </thead>\n",
              "  <tbody>\n",
              "    <tr>\n",
              "      <th>0</th>\n",
              "      <td>94</td>\n",
              "      <td>80952</td>\n",
              "      <td>24</td>\n",
              "      <td>3373</td>\n",
              "      <td>12541</td>\n",
              "      <td>0.43</td>\n",
              "      <td>54</td>\n",
              "      <td>940105</td>\n",
              "      <td>99107</td>\n",
              "      <td>1</td>\n",
              "    </tr>\n",
              "    <tr>\n",
              "      <th>1</th>\n",
              "      <td>94</td>\n",
              "      <td>80952</td>\n",
              "      <td>24</td>\n",
              "      <td>3373</td>\n",
              "      <td>12541</td>\n",
              "      <td>0.43</td>\n",
              "      <td>59</td>\n",
              "      <td>940105</td>\n",
              "      <td>99107</td>\n",
              "      <td>1</td>\n",
              "    </tr>\n",
              "    <tr>\n",
              "      <th>2</th>\n",
              "      <td>96</td>\n",
              "      <td>30276</td>\n",
              "      <td>12</td>\n",
              "      <td>2523</td>\n",
              "      <td>9104</td>\n",
              "      <td>2.07</td>\n",
              "      <td>60</td>\n",
              "      <td>960429</td>\n",
              "      <td>2354</td>\n",
              "      <td>0</td>\n",
              "    </tr>\n",
              "    <tr>\n",
              "      <th>3</th>\n",
              "      <td>97</td>\n",
              "      <td>30276</td>\n",
              "      <td>12</td>\n",
              "      <td>2523</td>\n",
              "      <td>9893</td>\n",
              "      <td>4.72</td>\n",
              "      <td>37</td>\n",
              "      <td>971208</td>\n",
              "      <td>5887</td>\n",
              "      <td>1</td>\n",
              "    </tr>\n",
              "    <tr>\n",
              "      <th>4</th>\n",
              "      <td>96</td>\n",
              "      <td>165960</td>\n",
              "      <td>24</td>\n",
              "      <td>6915</td>\n",
              "      <td>8427</td>\n",
              "      <td>1.54</td>\n",
              "      <td>55</td>\n",
              "      <td>960502</td>\n",
              "      <td>1913</td>\n",
              "      <td>1</td>\n",
              "    </tr>\n",
              "  </tbody>\n",
              "</table>\n",
              "</div>\n",
              "      <button class=\"colab-df-convert\" onclick=\"convertToInteractive('df-e75acf38-34a4-4247-be9d-647243dff960')\"\n",
              "              title=\"Convert this dataframe to an interactive table.\"\n",
              "              style=\"display:none;\">\n",
              "        \n",
              "  <svg xmlns=\"http://www.w3.org/2000/svg\" height=\"24px\"viewBox=\"0 0 24 24\"\n",
              "       width=\"24px\">\n",
              "    <path d=\"M0 0h24v24H0V0z\" fill=\"none\"/>\n",
              "    <path d=\"M18.56 5.44l.94 2.06.94-2.06 2.06-.94-2.06-.94-.94-2.06-.94 2.06-2.06.94zm-11 1L8.5 8.5l.94-2.06 2.06-.94-2.06-.94L8.5 2.5l-.94 2.06-2.06.94zm10 10l.94 2.06.94-2.06 2.06-.94-2.06-.94-.94-2.06-.94 2.06-2.06.94z\"/><path d=\"M17.41 7.96l-1.37-1.37c-.4-.4-.92-.59-1.43-.59-.52 0-1.04.2-1.43.59L10.3 9.45l-7.72 7.72c-.78.78-.78 2.05 0 2.83L4 21.41c.39.39.9.59 1.41.59.51 0 1.02-.2 1.41-.59l7.78-7.78 2.81-2.81c.8-.78.8-2.07 0-2.86zM5.41 20L4 18.59l7.72-7.72 1.47 1.35L5.41 20z\"/>\n",
              "  </svg>\n",
              "      </button>\n",
              "      \n",
              "  <style>\n",
              "    .colab-df-container {\n",
              "      display:flex;\n",
              "      flex-wrap:wrap;\n",
              "      gap: 12px;\n",
              "    }\n",
              "\n",
              "    .colab-df-convert {\n",
              "      background-color: #E8F0FE;\n",
              "      border: none;\n",
              "      border-radius: 50%;\n",
              "      cursor: pointer;\n",
              "      display: none;\n",
              "      fill: #1967D2;\n",
              "      height: 32px;\n",
              "      padding: 0 0 0 0;\n",
              "      width: 32px;\n",
              "    }\n",
              "\n",
              "    .colab-df-convert:hover {\n",
              "      background-color: #E2EBFA;\n",
              "      box-shadow: 0px 1px 2px rgba(60, 64, 67, 0.3), 0px 1px 3px 1px rgba(60, 64, 67, 0.15);\n",
              "      fill: #174EA6;\n",
              "    }\n",
              "\n",
              "    [theme=dark] .colab-df-convert {\n",
              "      background-color: #3B4455;\n",
              "      fill: #D2E3FC;\n",
              "    }\n",
              "\n",
              "    [theme=dark] .colab-df-convert:hover {\n",
              "      background-color: #434B5C;\n",
              "      box-shadow: 0px 1px 3px 1px rgba(0, 0, 0, 0.15);\n",
              "      filter: drop-shadow(0px 1px 2px rgba(0, 0, 0, 0.3));\n",
              "      fill: #FFFFFF;\n",
              "    }\n",
              "  </style>\n",
              "\n",
              "      <script>\n",
              "        const buttonEl =\n",
              "          document.querySelector('#df-e75acf38-34a4-4247-be9d-647243dff960 button.colab-df-convert');\n",
              "        buttonEl.style.display =\n",
              "          google.colab.kernel.accessAllowed ? 'block' : 'none';\n",
              "\n",
              "        async function convertToInteractive(key) {\n",
              "          const element = document.querySelector('#df-e75acf38-34a4-4247-be9d-647243dff960');\n",
              "          const dataTable =\n",
              "            await google.colab.kernel.invokeFunction('convertToInteractive',\n",
              "                                                     [key], {});\n",
              "          if (!dataTable) return;\n",
              "\n",
              "          const docLinkHtml = 'Like what you see? Visit the ' +\n",
              "            '<a target=\"_blank\" href=https://colab.research.google.com/notebooks/data_table.ipynb>data table notebook</a>'\n",
              "            + ' to learn more about interactive tables.';\n",
              "          element.innerHTML = '';\n",
              "          dataTable['output_type'] = 'display_data';\n",
              "          await google.colab.output.renderOutput(dataTable, element);\n",
              "          const docLink = document.createElement('div');\n",
              "          docLink.innerHTML = docLinkHtml;\n",
              "          element.appendChild(docLink);\n",
              "        }\n",
              "      </script>\n",
              "    </div>\n",
              "  </div>\n",
              "  "
            ]
          },
          "metadata": {},
          "execution_count": 21
        }
      ]
    },
    {
      "cell_type": "code",
      "source": [
        "df_train_2.shape"
      ],
      "metadata": {
        "colab": {
          "base_uri": "https://localhost:8080/"
        },
        "id": "xPGZCVWLRukX",
        "outputId": "7fab09ac-3dff-440e-eca7-5b8e7e8e7974"
      },
      "execution_count": null,
      "outputs": [
        {
          "output_type": "execute_result",
          "data": {
            "text/plain": [
              "(289, 10)"
            ]
          },
          "metadata": {},
          "execution_count": 22
        }
      ]
    },
    {
      "cell_type": "code",
      "source": [
        "%%sql loans_test_2 << select substr(lo.date,0,3) concession_loan, amount, duration, payments, A11, A13, 99-substr(cl.birth_number,0,3) year ,lo.date, a16 criminalidad,\n",
        "  CASE status WHEN 'C' THEN 1 \n",
        "              WHEN 'D' THEN 0\n",
        "  END label\n",
        "\n",
        "  FROM LOAN lo inner join ACCOUNT ac on lo.account_id = ac.account_id\n",
        "             inner join DISPOSITION disp on ac.account_id = disp.account_id\n",
        "             inner join CLIENT cl on disp.client_id = cl.client_id\n",
        "             inner join DISTRICT dist on cl.district_id = dist.a1\n",
        "  Where lo.status in (\"C\", \"D\")"
      ],
      "metadata": {
        "colab": {
          "base_uri": "https://localhost:8080/"
        },
        "id": "GtDjXAfpqHL1",
        "outputId": "fdc95a91-0a10-432a-cff2-066b4818f287"
      },
      "execution_count": null,
      "outputs": [
        {
          "output_type": "stream",
          "name": "stdout",
          "text": [
            " * sqlite:///data_berka.db\n",
            "Done.\n",
            "Returning data to local variable loans_test_2\n"
          ]
        }
      ]
    },
    {
      "cell_type": "code",
      "source": [
        "df_test_2 = loans_test_2.DataFrame()\n",
        "df_test_2.head()"
      ],
      "metadata": {
        "colab": {
          "base_uri": "https://localhost:8080/",
          "height": 206
        },
        "id": "CGejLqE9Rz4X",
        "outputId": "8dca8ec2-4318-4fb7-bb5e-5bc3da3e669d"
      },
      "execution_count": null,
      "outputs": [
        {
          "output_type": "execute_result",
          "data": {
            "text/plain": [
              "  concession_loan  amount  duration  payments   A11   A13  year    date  \\\n",
              "0              98  318480        60      5308  8547  3.64    47  981014   \n",
              "1              98  110736        48      2307  8402  3.98    59  980419   \n",
              "2              97  265320        36      7370  8254  3.76    32  971206   \n",
              "3              98  352704        48      7348  9104  2.07    49  981205   \n",
              "4              97  162576        36      4516  9198  4.28    46  970908   \n",
              "\n",
              "   criminalidad  label  \n",
              "0          1542      0  \n",
              "1          1099      1  \n",
              "2          2325      0  \n",
              "3          2354      1  \n",
              "4          6132      1  "
            ],
            "text/html": [
              "\n",
              "  <div id=\"df-e321a6a4-7ad8-43cb-a1e4-c1438a176214\">\n",
              "    <div class=\"colab-df-container\">\n",
              "      <div>\n",
              "<style scoped>\n",
              "    .dataframe tbody tr th:only-of-type {\n",
              "        vertical-align: middle;\n",
              "    }\n",
              "\n",
              "    .dataframe tbody tr th {\n",
              "        vertical-align: top;\n",
              "    }\n",
              "\n",
              "    .dataframe thead th {\n",
              "        text-align: right;\n",
              "    }\n",
              "</style>\n",
              "<table border=\"1\" class=\"dataframe\">\n",
              "  <thead>\n",
              "    <tr style=\"text-align: right;\">\n",
              "      <th></th>\n",
              "      <th>concession_loan</th>\n",
              "      <th>amount</th>\n",
              "      <th>duration</th>\n",
              "      <th>payments</th>\n",
              "      <th>A11</th>\n",
              "      <th>A13</th>\n",
              "      <th>year</th>\n",
              "      <th>date</th>\n",
              "      <th>criminalidad</th>\n",
              "      <th>label</th>\n",
              "    </tr>\n",
              "  </thead>\n",
              "  <tbody>\n",
              "    <tr>\n",
              "      <th>0</th>\n",
              "      <td>98</td>\n",
              "      <td>318480</td>\n",
              "      <td>60</td>\n",
              "      <td>5308</td>\n",
              "      <td>8547</td>\n",
              "      <td>3.64</td>\n",
              "      <td>47</td>\n",
              "      <td>981014</td>\n",
              "      <td>1542</td>\n",
              "      <td>0</td>\n",
              "    </tr>\n",
              "    <tr>\n",
              "      <th>1</th>\n",
              "      <td>98</td>\n",
              "      <td>110736</td>\n",
              "      <td>48</td>\n",
              "      <td>2307</td>\n",
              "      <td>8402</td>\n",
              "      <td>3.98</td>\n",
              "      <td>59</td>\n",
              "      <td>980419</td>\n",
              "      <td>1099</td>\n",
              "      <td>1</td>\n",
              "    </tr>\n",
              "    <tr>\n",
              "      <th>2</th>\n",
              "      <td>97</td>\n",
              "      <td>265320</td>\n",
              "      <td>36</td>\n",
              "      <td>7370</td>\n",
              "      <td>8254</td>\n",
              "      <td>3.76</td>\n",
              "      <td>32</td>\n",
              "      <td>971206</td>\n",
              "      <td>2325</td>\n",
              "      <td>0</td>\n",
              "    </tr>\n",
              "    <tr>\n",
              "      <th>3</th>\n",
              "      <td>98</td>\n",
              "      <td>352704</td>\n",
              "      <td>48</td>\n",
              "      <td>7348</td>\n",
              "      <td>9104</td>\n",
              "      <td>2.07</td>\n",
              "      <td>49</td>\n",
              "      <td>981205</td>\n",
              "      <td>2354</td>\n",
              "      <td>1</td>\n",
              "    </tr>\n",
              "    <tr>\n",
              "      <th>4</th>\n",
              "      <td>97</td>\n",
              "      <td>162576</td>\n",
              "      <td>36</td>\n",
              "      <td>4516</td>\n",
              "      <td>9198</td>\n",
              "      <td>4.28</td>\n",
              "      <td>46</td>\n",
              "      <td>970908</td>\n",
              "      <td>6132</td>\n",
              "      <td>1</td>\n",
              "    </tr>\n",
              "  </tbody>\n",
              "</table>\n",
              "</div>\n",
              "      <button class=\"colab-df-convert\" onclick=\"convertToInteractive('df-e321a6a4-7ad8-43cb-a1e4-c1438a176214')\"\n",
              "              title=\"Convert this dataframe to an interactive table.\"\n",
              "              style=\"display:none;\">\n",
              "        \n",
              "  <svg xmlns=\"http://www.w3.org/2000/svg\" height=\"24px\"viewBox=\"0 0 24 24\"\n",
              "       width=\"24px\">\n",
              "    <path d=\"M0 0h24v24H0V0z\" fill=\"none\"/>\n",
              "    <path d=\"M18.56 5.44l.94 2.06.94-2.06 2.06-.94-2.06-.94-.94-2.06-.94 2.06-2.06.94zm-11 1L8.5 8.5l.94-2.06 2.06-.94-2.06-.94L8.5 2.5l-.94 2.06-2.06.94zm10 10l.94 2.06.94-2.06 2.06-.94-2.06-.94-.94-2.06-.94 2.06-2.06.94z\"/><path d=\"M17.41 7.96l-1.37-1.37c-.4-.4-.92-.59-1.43-.59-.52 0-1.04.2-1.43.59L10.3 9.45l-7.72 7.72c-.78.78-.78 2.05 0 2.83L4 21.41c.39.39.9.59 1.41.59.51 0 1.02-.2 1.41-.59l7.78-7.78 2.81-2.81c.8-.78.8-2.07 0-2.86zM5.41 20L4 18.59l7.72-7.72 1.47 1.35L5.41 20z\"/>\n",
              "  </svg>\n",
              "      </button>\n",
              "      \n",
              "  <style>\n",
              "    .colab-df-container {\n",
              "      display:flex;\n",
              "      flex-wrap:wrap;\n",
              "      gap: 12px;\n",
              "    }\n",
              "\n",
              "    .colab-df-convert {\n",
              "      background-color: #E8F0FE;\n",
              "      border: none;\n",
              "      border-radius: 50%;\n",
              "      cursor: pointer;\n",
              "      display: none;\n",
              "      fill: #1967D2;\n",
              "      height: 32px;\n",
              "      padding: 0 0 0 0;\n",
              "      width: 32px;\n",
              "    }\n",
              "\n",
              "    .colab-df-convert:hover {\n",
              "      background-color: #E2EBFA;\n",
              "      box-shadow: 0px 1px 2px rgba(60, 64, 67, 0.3), 0px 1px 3px 1px rgba(60, 64, 67, 0.15);\n",
              "      fill: #174EA6;\n",
              "    }\n",
              "\n",
              "    [theme=dark] .colab-df-convert {\n",
              "      background-color: #3B4455;\n",
              "      fill: #D2E3FC;\n",
              "    }\n",
              "\n",
              "    [theme=dark] .colab-df-convert:hover {\n",
              "      background-color: #434B5C;\n",
              "      box-shadow: 0px 1px 3px 1px rgba(0, 0, 0, 0.15);\n",
              "      filter: drop-shadow(0px 1px 2px rgba(0, 0, 0, 0.3));\n",
              "      fill: #FFFFFF;\n",
              "    }\n",
              "  </style>\n",
              "\n",
              "      <script>\n",
              "        const buttonEl =\n",
              "          document.querySelector('#df-e321a6a4-7ad8-43cb-a1e4-c1438a176214 button.colab-df-convert');\n",
              "        buttonEl.style.display =\n",
              "          google.colab.kernel.accessAllowed ? 'block' : 'none';\n",
              "\n",
              "        async function convertToInteractive(key) {\n",
              "          const element = document.querySelector('#df-e321a6a4-7ad8-43cb-a1e4-c1438a176214');\n",
              "          const dataTable =\n",
              "            await google.colab.kernel.invokeFunction('convertToInteractive',\n",
              "                                                     [key], {});\n",
              "          if (!dataTable) return;\n",
              "\n",
              "          const docLinkHtml = 'Like what you see? Visit the ' +\n",
              "            '<a target=\"_blank\" href=https://colab.research.google.com/notebooks/data_table.ipynb>data table notebook</a>'\n",
              "            + ' to learn more about interactive tables.';\n",
              "          element.innerHTML = '';\n",
              "          dataTable['output_type'] = 'display_data';\n",
              "          await google.colab.output.renderOutput(dataTable, element);\n",
              "          const docLink = document.createElement('div');\n",
              "          docLink.innerHTML = docLinkHtml;\n",
              "          element.appendChild(docLink);\n",
              "        }\n",
              "      </script>\n",
              "    </div>\n",
              "  </div>\n",
              "  "
            ]
          },
          "metadata": {},
          "execution_count": 24
        }
      ]
    },
    {
      "cell_type": "code",
      "source": [
        "df_test_2.shape"
      ],
      "metadata": {
        "id": "m28r-5C2Tm7J",
        "outputId": "3b98790f-eb9d-4315-d1f7-65cf5ceff89e",
        "colab": {
          "base_uri": "https://localhost:8080/"
        }
      },
      "execution_count": null,
      "outputs": [
        {
          "output_type": "execute_result",
          "data": {
            "text/plain": [
              "(538, 10)"
            ]
          },
          "metadata": {},
          "execution_count": 25
        }
      ]
    },
    {
      "cell_type": "markdown",
      "source": [
        "División de los datos de entrenamiento"
      ],
      "metadata": {
        "id": "eTd-ZWIdSibB"
      }
    },
    {
      "cell_type": "code",
      "source": [
        "features = [\"concession_loan\", \"amount\", \"duration\", \"A11\", \"A13\", \"year\", \"date\", \"criminalidad\"]"
      ],
      "metadata": {
        "id": "JwXh6-6WR6SH"
      },
      "execution_count": null,
      "outputs": []
    },
    {
      "cell_type": "code",
      "source": [
        "X_train_2 = df_train_2[features]\n",
        "y_train_2 = df_train_2[\"label\"]\n",
        "\n",
        "X_test_2 = df_test_2[features]\n",
        "y_test_2 = df_test_2[\"label\"]"
      ],
      "metadata": {
        "id": "JO5To-QkNilu"
      },
      "execution_count": null,
      "outputs": []
    },
    {
      "cell_type": "code",
      "source": [
        "\n",
        "scaler = StandardScaler()\n",
        "# calculo de los factores de centrado y escalado\n",
        "scaler.fit(X_train_2) \n",
        "# transformación\n",
        "X_train_2 = scaler.transform(X_train_2)\n",
        "X_test_2 = scaler.transform(X_test_2)"
      ],
      "metadata": {
        "id": "MvTe5wzdSNSn"
      },
      "execution_count": null,
      "outputs": []
    },
    {
      "cell_type": "code",
      "source": [
        "\n",
        "gnb = GaussianNB()\n",
        "clf = gnb.fit(X_train_2, y_train_2)\n",
        "y_pred = clf.predict(X_test_2)\n",
        "print(\"Número de préstamos clasificados erroneamente %d de un total de  %d\"  % (X_test_2.shape[0], (y_test_2 != y_pred).sum()))\n"
      ],
      "metadata": {
        "colab": {
          "base_uri": "https://localhost:8080/"
        },
        "id": "JZgryixmSTJA",
        "outputId": "4b4122ae-cfeb-47be-c54f-8ed8284a828b"
      },
      "execution_count": null,
      "outputs": [
        {
          "output_type": "stream",
          "name": "stdout",
          "text": [
            "Número de préstamos clasificados erroneamente 538 de un total de  149\n"
          ]
        }
      ]
    },
    {
      "cell_type": "code",
      "source": [
        "\n",
        "print(classification_report(y_test_2, y_pred, labels=clf.classes_))"
      ],
      "metadata": {
        "colab": {
          "base_uri": "https://localhost:8080/"
        },
        "id": "8JynypNzSgz_",
        "outputId": "d87a8eb8-c9d8-4b0d-a93e-660f78566b5a"
      },
      "execution_count": null,
      "outputs": [
        {
          "output_type": "stream",
          "name": "stdout",
          "text": [
            "              precision    recall  f1-score   support\n",
            "\n",
            "           0       0.16      0.53      0.24        45\n",
            "           1       0.95      0.74      0.83       493\n",
            "\n",
            "    accuracy                           0.72       538\n",
            "   macro avg       0.55      0.64      0.54       538\n",
            "weighted avg       0.88      0.72      0.78       538\n",
            "\n"
          ]
        }
      ]
    },
    {
      "cell_type": "code",
      "source": [
        "cm = confusion_matrix(y_test_2, y_pred, labels= clf.classes_)\n",
        "disp = ConfusionMatrixDisplay(confusion_matrix=cm, display_labels=clf.classes_)\n",
        "disp.plot()"
      ],
      "metadata": {
        "id": "e5dl413nS4XP",
        "colab": {
          "base_uri": "https://localhost:8080/",
          "height": 296
        },
        "outputId": "2a3b9096-795b-4be9-a846-28eb22d4bb3b"
      },
      "execution_count": null,
      "outputs": [
        {
          "output_type": "execute_result",
          "data": {
            "text/plain": [
              "<sklearn.metrics._plot.confusion_matrix.ConfusionMatrixDisplay at 0x7f5eed810c90>"
            ]
          },
          "metadata": {},
          "execution_count": 31
        },
        {
          "output_type": "display_data",
          "data": {
            "text/plain": [
              "<Figure size 432x288 with 2 Axes>"
            ],
            "image/png": "[encoded data removed]"
          },
          "metadata": {
            "needs_background": "light"
          }
        }
      ]
    },
    {
      "cell_type": "markdown",
      "source": [
        "La diferencia entre NaiveBayes y realizar un razonamiento aproximado asignado las poderaciones de forma natural es los algoritmos de ML que estan detras de NaiveBayes que hacen que sea un modelo más robusto y mas confiable los resultados devueltos"
      ],
      "metadata": {
        "id": "slyEHgTQSpF3"
      }
    }
  ]
}